{
 "cells": [
  {
   "cell_type": "code",
   "execution_count": 1,
   "id": "ebe7ca6c-4a18-421c-be9a-a841f7e4e642",
   "metadata": {},
   "outputs": [],
   "source": [
    "import pandas as pd\n",
    "import numpy as np\n",
    "import matplotlib.pyplot as plt\n",
    "import seaborn as sns\n",
    "import plotly.express as px\n",
    "import plotly.graph_objects as go\n",
    "from plotly.subplots import make_subplots"
   ]
  },
  {
   "cell_type": "code",
   "execution_count": 2,
   "id": "4340d5ae-bcd7-4a78-be9a-36eff0013d62",
   "metadata": {},
   "outputs": [],
   "source": [
    "swiggy_df = pd.read_csv('swiggy_file.csv')"
   ]
  },
  {
   "cell_type": "markdown",
   "id": "b11ea517-7eba-4126-9497-89fc2e6dc666",
   "metadata": {},
   "source": [
    "## Inspecting data"
   ]
  },
  {
   "cell_type": "code",
   "execution_count": 3,
   "id": "14fd0608-407f-4781-8d92-8c293b4066f2",
   "metadata": {},
   "outputs": [
    {
     "data": {
      "text/html": [
       "<div>\n",
       "<style scoped>\n",
       "    .dataframe tbody tr th:only-of-type {\n",
       "        vertical-align: middle;\n",
       "    }\n",
       "\n",
       "    .dataframe tbody tr th {\n",
       "        vertical-align: top;\n",
       "    }\n",
       "\n",
       "    .dataframe thead th {\n",
       "        text-align: right;\n",
       "    }\n",
       "</style>\n",
       "<table border=\"1\" class=\"dataframe\">\n",
       "  <thead>\n",
       "    <tr style=\"text-align: right;\">\n",
       "      <th></th>\n",
       "      <th>Restaurant Name</th>\n",
       "      <th>Cuisine</th>\n",
       "      <th>Rating</th>\n",
       "      <th>Number of Ratings</th>\n",
       "      <th>Average Price</th>\n",
       "      <th>Number of Offers</th>\n",
       "      <th>Offer Name</th>\n",
       "      <th>Area</th>\n",
       "      <th>Pure Veg</th>\n",
       "      <th>Location</th>\n",
       "    </tr>\n",
       "  </thead>\n",
       "  <tbody>\n",
       "    <tr>\n",
       "      <th>0</th>\n",
       "      <td>La Pino'Z Pizza</td>\n",
       "      <td>Pizzas, Pastas</td>\n",
       "      <td>4.0</td>\n",
       "      <td>10+ ratings</td>\n",
       "      <td>₹250 for two</td>\n",
       "      <td>2</td>\n",
       "      <td>FLAT DEAL\\nFLAT ₹125 OFF\\nUSE FLAT125ABOVE ₹69...</td>\n",
       "      <td>LALA LAJPAT RAI MARKET</td>\n",
       "      <td>No</td>\n",
       "      <td>Abohar</td>\n",
       "    </tr>\n",
       "    <tr>\n",
       "      <th>1</th>\n",
       "      <td>The Second Wife</td>\n",
       "      <td>Indian, North Indian</td>\n",
       "      <td>3.6</td>\n",
       "      <td>50+ ratings</td>\n",
       "      <td>₹250 for two</td>\n",
       "      <td>2</td>\n",
       "      <td>30% OFF UPTO ₹75\\nUSE TRYNEWABOVE ₹149, FLAT ₹...</td>\n",
       "      <td>Central Abohar</td>\n",
       "      <td>No</td>\n",
       "      <td>Abohar</td>\n",
       "    </tr>\n",
       "    <tr>\n",
       "      <th>2</th>\n",
       "      <td>Tasty Bites</td>\n",
       "      <td>Italian, Beverages</td>\n",
       "      <td>3.8</td>\n",
       "      <td>10+ ratings</td>\n",
       "      <td>₹200 for two</td>\n",
       "      <td>1</td>\n",
       "      <td>FLAT ₹120 OFF\\nUSE AXIS120ABOVE ₹500</td>\n",
       "      <td>Central Abohar</td>\n",
       "      <td>Yes</td>\n",
       "      <td>Abohar</td>\n",
       "    </tr>\n",
       "    <tr>\n",
       "      <th>3</th>\n",
       "      <td>Food Studio</td>\n",
       "      <td>Pizzas, Burgers</td>\n",
       "      <td>3.5</td>\n",
       "      <td>8 ratings</td>\n",
       "      <td>₹49 for two</td>\n",
       "      <td>5</td>\n",
       "      <td>50% OFF UPTO ₹100\\nUSE TRYNEWABOVE ₹129, FLAT ...</td>\n",
       "      <td>Central Abohar</td>\n",
       "      <td>Yes</td>\n",
       "      <td>Abohar</td>\n",
       "    </tr>\n",
       "    <tr>\n",
       "      <th>4</th>\n",
       "      <td>Roll Express</td>\n",
       "      <td>Fast Food, Snacks</td>\n",
       "      <td>4.3</td>\n",
       "      <td>100+ ratings</td>\n",
       "      <td>₹200 for two</td>\n",
       "      <td>2</td>\n",
       "      <td>DEAL OF DAY\\n10% OFF UPTO ₹40\\nUSE STEALDEALAB...</td>\n",
       "      <td>Circular Road</td>\n",
       "      <td>No</td>\n",
       "      <td>Abohar</td>\n",
       "    </tr>\n",
       "    <tr>\n",
       "      <th>...</th>\n",
       "      <td>...</td>\n",
       "      <td>...</td>\n",
       "      <td>...</td>\n",
       "      <td>...</td>\n",
       "      <td>...</td>\n",
       "      <td>...</td>\n",
       "      <td>...</td>\n",
       "      <td>...</td>\n",
       "      <td>...</td>\n",
       "      <td>...</td>\n",
       "    </tr>\n",
       "    <tr>\n",
       "      <th>140652</th>\n",
       "      <td>Yummy Momo'S Cafe</td>\n",
       "      <td>Chinese, Fast Food</td>\n",
       "      <td>4.6</td>\n",
       "      <td>3 ratings</td>\n",
       "      <td>₹100 for two</td>\n",
       "      <td>3</td>\n",
       "      <td>20% OFF UPTO ₹50\\nUSE TRYNEWABOVE ₹149, FLAT ₹...</td>\n",
       "      <td>Yavatmal Locality</td>\n",
       "      <td>Yes</td>\n",
       "      <td>Yavatmal</td>\n",
       "    </tr>\n",
       "    <tr>\n",
       "      <th>140653</th>\n",
       "      <td>CAFE FIRST FLOOR</td>\n",
       "      <td>Beverages, Snacks</td>\n",
       "      <td>3.2</td>\n",
       "      <td>3 ratings</td>\n",
       "      <td>₹200 for two</td>\n",
       "      <td>2</td>\n",
       "      <td>FLAT ₹120 OFF\\nUSE AXIS120ABOVE ₹500, FLAT ₹50...</td>\n",
       "      <td>Yavatmal City</td>\n",
       "      <td>Yes</td>\n",
       "      <td>Yavatmal</td>\n",
       "    </tr>\n",
       "    <tr>\n",
       "      <th>140654</th>\n",
       "      <td>Cafe Coffee Aani Barach Kahi</td>\n",
       "      <td>Snacks</td>\n",
       "      <td>3.2</td>\n",
       "      <td>50+ ratings</td>\n",
       "      <td>₹150 for two</td>\n",
       "      <td>2</td>\n",
       "      <td>FLAT ₹120 OFF\\nUSE AXIS120ABOVE ₹500, FLAT ₹50...</td>\n",
       "      <td>Yavatmal Locality</td>\n",
       "      <td>Yes</td>\n",
       "      <td>Yavatmal</td>\n",
       "    </tr>\n",
       "    <tr>\n",
       "      <th>140655</th>\n",
       "      <td>Patil Family Restaurant</td>\n",
       "      <td>North Indian, Biryani</td>\n",
       "      <td>4.3</td>\n",
       "      <td>9 ratings</td>\n",
       "      <td>₹200 for two</td>\n",
       "      <td>2</td>\n",
       "      <td>FLAT ₹120 OFF\\nUSE AXIS120ABOVE ₹500, FLAT ₹50...</td>\n",
       "      <td>Yavatmal Locality</td>\n",
       "      <td>No</td>\n",
       "      <td>Yavatmal</td>\n",
       "    </tr>\n",
       "    <tr>\n",
       "      <th>140656</th>\n",
       "      <td>Prabhakar Mama Cha Dhaba</td>\n",
       "      <td>North Indian</td>\n",
       "      <td>--</td>\n",
       "      <td>Too Few Ratings</td>\n",
       "      <td>₹350 for two</td>\n",
       "      <td>2</td>\n",
       "      <td>FLAT ₹120 OFF\\nUSE AXIS120ABOVE ₹500, FLAT ₹50...</td>\n",
       "      <td>Yavatmal Locality</td>\n",
       "      <td>No</td>\n",
       "      <td>Yavatmal</td>\n",
       "    </tr>\n",
       "  </tbody>\n",
       "</table>\n",
       "<p>140657 rows × 10 columns</p>\n",
       "</div>"
      ],
      "text/plain": [
       "                     Restaurant Name                Cuisine Rating  \\\n",
       "0                    La Pino'Z Pizza         Pizzas, Pastas    4.0   \n",
       "1                    The Second Wife   Indian, North Indian    3.6   \n",
       "2                        Tasty Bites     Italian, Beverages    3.8   \n",
       "3                        Food Studio        Pizzas, Burgers    3.5   \n",
       "4                       Roll Express      Fast Food, Snacks    4.3   \n",
       "...                              ...                    ...    ...   \n",
       "140652             Yummy Momo'S Cafe     Chinese, Fast Food    4.6   \n",
       "140653              CAFE FIRST FLOOR      Beverages, Snacks    3.2   \n",
       "140654  Cafe Coffee Aani Barach Kahi                 Snacks    3.2   \n",
       "140655       Patil Family Restaurant  North Indian, Biryani    4.3   \n",
       "140656      Prabhakar Mama Cha Dhaba           North Indian     --   \n",
       "\n",
       "       Number of Ratings Average Price  Number of Offers  \\\n",
       "0            10+ ratings  ₹250 for two                 2   \n",
       "1            50+ ratings  ₹250 for two                 2   \n",
       "2            10+ ratings  ₹200 for two                 1   \n",
       "3              8 ratings   ₹49 for two                 5   \n",
       "4           100+ ratings  ₹200 for two                 2   \n",
       "...                  ...           ...               ...   \n",
       "140652         3 ratings  ₹100 for two                 3   \n",
       "140653         3 ratings  ₹200 for two                 2   \n",
       "140654       50+ ratings  ₹150 for two                 2   \n",
       "140655         9 ratings  ₹200 for two                 2   \n",
       "140656   Too Few Ratings  ₹350 for two                 2   \n",
       "\n",
       "                                               Offer Name  \\\n",
       "0       FLAT DEAL\\nFLAT ₹125 OFF\\nUSE FLAT125ABOVE ₹69...   \n",
       "1       30% OFF UPTO ₹75\\nUSE TRYNEWABOVE ₹149, FLAT ₹...   \n",
       "2                    FLAT ₹120 OFF\\nUSE AXIS120ABOVE ₹500   \n",
       "3       50% OFF UPTO ₹100\\nUSE TRYNEWABOVE ₹129, FLAT ...   \n",
       "4       DEAL OF DAY\\n10% OFF UPTO ₹40\\nUSE STEALDEALAB...   \n",
       "...                                                   ...   \n",
       "140652  20% OFF UPTO ₹50\\nUSE TRYNEWABOVE ₹149, FLAT ₹...   \n",
       "140653  FLAT ₹120 OFF\\nUSE AXIS120ABOVE ₹500, FLAT ₹50...   \n",
       "140654  FLAT ₹120 OFF\\nUSE AXIS120ABOVE ₹500, FLAT ₹50...   \n",
       "140655  FLAT ₹120 OFF\\nUSE AXIS120ABOVE ₹500, FLAT ₹50...   \n",
       "140656  FLAT ₹120 OFF\\nUSE AXIS120ABOVE ₹500, FLAT ₹50...   \n",
       "\n",
       "                          Area Pure Veg  Location  \n",
       "0       LALA LAJPAT RAI MARKET       No    Abohar  \n",
       "1               Central Abohar       No    Abohar  \n",
       "2               Central Abohar      Yes    Abohar  \n",
       "3               Central Abohar      Yes    Abohar  \n",
       "4                Circular Road       No    Abohar  \n",
       "...                        ...      ...       ...  \n",
       "140652       Yavatmal Locality      Yes  Yavatmal  \n",
       "140653           Yavatmal City      Yes  Yavatmal  \n",
       "140654       Yavatmal Locality      Yes  Yavatmal  \n",
       "140655       Yavatmal Locality       No  Yavatmal  \n",
       "140656       Yavatmal Locality       No  Yavatmal  \n",
       "\n",
       "[140657 rows x 10 columns]"
      ]
     },
     "execution_count": 3,
     "metadata": {},
     "output_type": "execute_result"
    }
   ],
   "source": [
    "swiggy_df"
   ]
  },
  {
   "cell_type": "code",
   "execution_count": 4,
   "id": "067c94be-0bf2-4723-bf94-2c2f6e37994a",
   "metadata": {},
   "outputs": [
    {
     "data": {
      "text/plain": [
       "Index(['Restaurant Name', 'Cuisine', 'Rating', 'Number of Ratings',\n",
       "       'Average Price', 'Number of Offers', 'Offer Name', 'Area', 'Pure Veg',\n",
       "       'Location'],\n",
       "      dtype='object')"
      ]
     },
     "execution_count": 4,
     "metadata": {},
     "output_type": "execute_result"
    }
   ],
   "source": [
    "swiggy_df.columns"
   ]
  },
  {
   "cell_type": "code",
   "execution_count": 5,
   "id": "d6f47d2d-a4f6-49a9-afc6-2ec21ffe8e55",
   "metadata": {},
   "outputs": [
    {
     "name": "stdout",
     "output_type": "stream",
     "text": [
      "<class 'pandas.core.frame.DataFrame'>\n",
      "RangeIndex: 140657 entries, 0 to 140656\n",
      "Data columns (total 10 columns):\n",
      " #   Column             Non-Null Count   Dtype \n",
      "---  ------             --------------   ----- \n",
      " 0   Restaurant Name    140657 non-null  object\n",
      " 1   Cuisine            140630 non-null  object\n",
      " 2   Rating             140657 non-null  object\n",
      " 3   Number of Ratings  126115 non-null  object\n",
      " 4   Average Price      140657 non-null  object\n",
      " 5   Number of Offers   140657 non-null  int64 \n",
      " 6   Offer Name         138849 non-null  object\n",
      " 7   Area               140655 non-null  object\n",
      " 8   Pure Veg           140657 non-null  object\n",
      " 9   Location           140657 non-null  object\n",
      "dtypes: int64(1), object(9)\n",
      "memory usage: 10.7+ MB\n"
     ]
    }
   ],
   "source": [
    "swiggy_df.info()"
   ]
  },
  {
   "cell_type": "markdown",
   "id": "27a81a48-c682-4bf0-8021-153314827f4a",
   "metadata": {},
   "source": [
    "## Removal of Unecessary columns\n",
    "Columns that have no function but are eating up space"
   ]
  },
  {
   "cell_type": "code",
   "execution_count": 6,
   "id": "5fbf885f-9a84-4cba-9f93-ed11ece8cf87",
   "metadata": {},
   "outputs": [],
   "source": [
    "swiggy_df.drop('Offer Name', axis = 1, inplace = True)"
   ]
  },
  {
   "cell_type": "code",
   "execution_count": 7,
   "id": "ccfd9060-d337-43e4-ad61-ac65788f52da",
   "metadata": {},
   "outputs": [
    {
     "name": "stdout",
     "output_type": "stream",
     "text": [
      "<class 'pandas.core.frame.DataFrame'>\n",
      "RangeIndex: 140657 entries, 0 to 140656\n",
      "Data columns (total 9 columns):\n",
      " #   Column             Non-Null Count   Dtype \n",
      "---  ------             --------------   ----- \n",
      " 0   Restaurant Name    140657 non-null  object\n",
      " 1   Cuisine            140630 non-null  object\n",
      " 2   Rating             140657 non-null  object\n",
      " 3   Number of Ratings  126115 non-null  object\n",
      " 4   Average Price      140657 non-null  object\n",
      " 5   Number of Offers   140657 non-null  int64 \n",
      " 6   Area               140655 non-null  object\n",
      " 7   Pure Veg           140657 non-null  object\n",
      " 8   Location           140657 non-null  object\n",
      "dtypes: int64(1), object(8)\n",
      "memory usage: 9.7+ MB\n"
     ]
    }
   ],
   "source": [
    "swiggy_df.info()"
   ]
  },
  {
   "cell_type": "markdown",
   "id": "8e6ce4a2-ed18-40b7-a434-58b7000f068d",
   "metadata": {},
   "source": [
    "## Handling Null Values"
   ]
  },
  {
   "cell_type": "code",
   "execution_count": 8,
   "id": "5c63d8ba-71ff-41ab-a317-566b20f4ae9e",
   "metadata": {},
   "outputs": [],
   "source": [
    "swiggy_df['Cuisine'] = swiggy_df['Cuisine'].fillna('None')"
   ]
  },
  {
   "cell_type": "code",
   "execution_count": 9,
   "id": "a272b051-dce0-4e7b-a06b-e6b6db5ebc38",
   "metadata": {},
   "outputs": [
    {
     "data": {
      "text/html": [
       "<div>\n",
       "<style scoped>\n",
       "    .dataframe tbody tr th:only-of-type {\n",
       "        vertical-align: middle;\n",
       "    }\n",
       "\n",
       "    .dataframe tbody tr th {\n",
       "        vertical-align: top;\n",
       "    }\n",
       "\n",
       "    .dataframe thead th {\n",
       "        text-align: right;\n",
       "    }\n",
       "</style>\n",
       "<table border=\"1\" class=\"dataframe\">\n",
       "  <thead>\n",
       "    <tr style=\"text-align: right;\">\n",
       "      <th></th>\n",
       "      <th>Restaurant Name</th>\n",
       "      <th>Cuisine</th>\n",
       "      <th>Rating</th>\n",
       "      <th>Number of Ratings</th>\n",
       "      <th>Average Price</th>\n",
       "      <th>Number of Offers</th>\n",
       "      <th>Area</th>\n",
       "      <th>Pure Veg</th>\n",
       "      <th>Location</th>\n",
       "    </tr>\n",
       "  </thead>\n",
       "  <tbody>\n",
       "    <tr>\n",
       "      <th>0</th>\n",
       "      <td>La Pino'Z Pizza</td>\n",
       "      <td>Pizzas, Pastas</td>\n",
       "      <td>4.0</td>\n",
       "      <td>10+ ratings</td>\n",
       "      <td>₹250 for two</td>\n",
       "      <td>2</td>\n",
       "      <td>LALA LAJPAT RAI MARKET</td>\n",
       "      <td>No</td>\n",
       "      <td>Abohar</td>\n",
       "    </tr>\n",
       "    <tr>\n",
       "      <th>1</th>\n",
       "      <td>The Second Wife</td>\n",
       "      <td>Indian, North Indian</td>\n",
       "      <td>3.6</td>\n",
       "      <td>50+ ratings</td>\n",
       "      <td>₹250 for two</td>\n",
       "      <td>2</td>\n",
       "      <td>Central Abohar</td>\n",
       "      <td>No</td>\n",
       "      <td>Abohar</td>\n",
       "    </tr>\n",
       "    <tr>\n",
       "      <th>2</th>\n",
       "      <td>Tasty Bites</td>\n",
       "      <td>Italian, Beverages</td>\n",
       "      <td>3.8</td>\n",
       "      <td>10+ ratings</td>\n",
       "      <td>₹200 for two</td>\n",
       "      <td>1</td>\n",
       "      <td>Central Abohar</td>\n",
       "      <td>Yes</td>\n",
       "      <td>Abohar</td>\n",
       "    </tr>\n",
       "    <tr>\n",
       "      <th>3</th>\n",
       "      <td>Food Studio</td>\n",
       "      <td>Pizzas, Burgers</td>\n",
       "      <td>3.5</td>\n",
       "      <td>8 ratings</td>\n",
       "      <td>₹49 for two</td>\n",
       "      <td>5</td>\n",
       "      <td>Central Abohar</td>\n",
       "      <td>Yes</td>\n",
       "      <td>Abohar</td>\n",
       "    </tr>\n",
       "    <tr>\n",
       "      <th>4</th>\n",
       "      <td>Roll Express</td>\n",
       "      <td>Fast Food, Snacks</td>\n",
       "      <td>4.3</td>\n",
       "      <td>100+ ratings</td>\n",
       "      <td>₹200 for two</td>\n",
       "      <td>2</td>\n",
       "      <td>Circular Road</td>\n",
       "      <td>No</td>\n",
       "      <td>Abohar</td>\n",
       "    </tr>\n",
       "    <tr>\n",
       "      <th>...</th>\n",
       "      <td>...</td>\n",
       "      <td>...</td>\n",
       "      <td>...</td>\n",
       "      <td>...</td>\n",
       "      <td>...</td>\n",
       "      <td>...</td>\n",
       "      <td>...</td>\n",
       "      <td>...</td>\n",
       "      <td>...</td>\n",
       "    </tr>\n",
       "    <tr>\n",
       "      <th>140652</th>\n",
       "      <td>Yummy Momo'S Cafe</td>\n",
       "      <td>Chinese, Fast Food</td>\n",
       "      <td>4.6</td>\n",
       "      <td>3 ratings</td>\n",
       "      <td>₹100 for two</td>\n",
       "      <td>3</td>\n",
       "      <td>Yavatmal Locality</td>\n",
       "      <td>Yes</td>\n",
       "      <td>Yavatmal</td>\n",
       "    </tr>\n",
       "    <tr>\n",
       "      <th>140653</th>\n",
       "      <td>CAFE FIRST FLOOR</td>\n",
       "      <td>Beverages, Snacks</td>\n",
       "      <td>3.2</td>\n",
       "      <td>3 ratings</td>\n",
       "      <td>₹200 for two</td>\n",
       "      <td>2</td>\n",
       "      <td>Yavatmal City</td>\n",
       "      <td>Yes</td>\n",
       "      <td>Yavatmal</td>\n",
       "    </tr>\n",
       "    <tr>\n",
       "      <th>140654</th>\n",
       "      <td>Cafe Coffee Aani Barach Kahi</td>\n",
       "      <td>Snacks</td>\n",
       "      <td>3.2</td>\n",
       "      <td>50+ ratings</td>\n",
       "      <td>₹150 for two</td>\n",
       "      <td>2</td>\n",
       "      <td>Yavatmal Locality</td>\n",
       "      <td>Yes</td>\n",
       "      <td>Yavatmal</td>\n",
       "    </tr>\n",
       "    <tr>\n",
       "      <th>140655</th>\n",
       "      <td>Patil Family Restaurant</td>\n",
       "      <td>North Indian, Biryani</td>\n",
       "      <td>4.3</td>\n",
       "      <td>9 ratings</td>\n",
       "      <td>₹200 for two</td>\n",
       "      <td>2</td>\n",
       "      <td>Yavatmal Locality</td>\n",
       "      <td>No</td>\n",
       "      <td>Yavatmal</td>\n",
       "    </tr>\n",
       "    <tr>\n",
       "      <th>140656</th>\n",
       "      <td>Prabhakar Mama Cha Dhaba</td>\n",
       "      <td>North Indian</td>\n",
       "      <td>--</td>\n",
       "      <td>Too Few Ratings</td>\n",
       "      <td>₹350 for two</td>\n",
       "      <td>2</td>\n",
       "      <td>Yavatmal Locality</td>\n",
       "      <td>No</td>\n",
       "      <td>Yavatmal</td>\n",
       "    </tr>\n",
       "  </tbody>\n",
       "</table>\n",
       "<p>140657 rows × 9 columns</p>\n",
       "</div>"
      ],
      "text/plain": [
       "                     Restaurant Name                Cuisine Rating  \\\n",
       "0                    La Pino'Z Pizza         Pizzas, Pastas    4.0   \n",
       "1                    The Second Wife   Indian, North Indian    3.6   \n",
       "2                        Tasty Bites     Italian, Beverages    3.8   \n",
       "3                        Food Studio        Pizzas, Burgers    3.5   \n",
       "4                       Roll Express      Fast Food, Snacks    4.3   \n",
       "...                              ...                    ...    ...   \n",
       "140652             Yummy Momo'S Cafe     Chinese, Fast Food    4.6   \n",
       "140653              CAFE FIRST FLOOR      Beverages, Snacks    3.2   \n",
       "140654  Cafe Coffee Aani Barach Kahi                 Snacks    3.2   \n",
       "140655       Patil Family Restaurant  North Indian, Biryani    4.3   \n",
       "140656      Prabhakar Mama Cha Dhaba           North Indian     --   \n",
       "\n",
       "       Number of Ratings Average Price  Number of Offers  \\\n",
       "0            10+ ratings  ₹250 for two                 2   \n",
       "1            50+ ratings  ₹250 for two                 2   \n",
       "2            10+ ratings  ₹200 for two                 1   \n",
       "3              8 ratings   ₹49 for two                 5   \n",
       "4           100+ ratings  ₹200 for two                 2   \n",
       "...                  ...           ...               ...   \n",
       "140652         3 ratings  ₹100 for two                 3   \n",
       "140653         3 ratings  ₹200 for two                 2   \n",
       "140654       50+ ratings  ₹150 for two                 2   \n",
       "140655         9 ratings  ₹200 for two                 2   \n",
       "140656   Too Few Ratings  ₹350 for two                 2   \n",
       "\n",
       "                          Area Pure Veg  Location  \n",
       "0       LALA LAJPAT RAI MARKET       No    Abohar  \n",
       "1               Central Abohar       No    Abohar  \n",
       "2               Central Abohar      Yes    Abohar  \n",
       "3               Central Abohar      Yes    Abohar  \n",
       "4                Circular Road       No    Abohar  \n",
       "...                        ...      ...       ...  \n",
       "140652       Yavatmal Locality      Yes  Yavatmal  \n",
       "140653           Yavatmal City      Yes  Yavatmal  \n",
       "140654       Yavatmal Locality      Yes  Yavatmal  \n",
       "140655       Yavatmal Locality       No  Yavatmal  \n",
       "140656       Yavatmal Locality       No  Yavatmal  \n",
       "\n",
       "[140657 rows x 9 columns]"
      ]
     },
     "execution_count": 9,
     "metadata": {},
     "output_type": "execute_result"
    }
   ],
   "source": [
    "swiggy_df"
   ]
  },
  {
   "cell_type": "markdown",
   "id": "4248f846-aa2e-43ab-b9b4-775f4012f06a",
   "metadata": {},
   "source": [
    "## Examining Datatypes\n",
    "### 'Average Price(₹)' and 'Rating' columns\n",
    "* Columns such as 'Rating' and 'Average Price(₹)' have object datatype that might pose problems for us later on during numeric calculations.\n",
    "* 'Average Price(₹)' have too many non-numeric elements which are removed and then it is converted to float datatype.\n",
    "* Same is the case with 'Rating' column."
   ]
  },
  {
   "cell_type": "code",
   "execution_count": 10,
   "id": "bf91d1f6-3206-4486-a0d0-e70cee822860",
   "metadata": {},
   "outputs": [],
   "source": [
    "swiggy_df['Average Price'] = swiggy_df['Average Price'].str.replace('for two', '')"
   ]
  },
  {
   "cell_type": "code",
   "execution_count": 11,
   "id": "592d40bc-9252-4de6-a877-b1dd18969514",
   "metadata": {},
   "outputs": [],
   "source": [
    "swiggy_df['Average Price'] = swiggy_df['Average Price'].replace('₹', '', regex = True)"
   ]
  },
  {
   "cell_type": "code",
   "execution_count": 12,
   "id": "2413a937-e4f6-4e51-a698-4185fce99428",
   "metadata": {},
   "outputs": [],
   "source": [
    "swiggy_df = swiggy_df.rename(columns = {'Average Price': 'Average Price(₹)'})"
   ]
  },
  {
   "cell_type": "code",
   "execution_count": 13,
   "id": "36e8342c-f995-4583-82b3-97d8b8ff5cd9",
   "metadata": {},
   "outputs": [
    {
     "name": "stdout",
     "output_type": "stream",
     "text": [
      "<class 'pandas.core.frame.DataFrame'>\n",
      "RangeIndex: 140657 entries, 0 to 140656\n",
      "Data columns (total 9 columns):\n",
      " #   Column             Non-Null Count   Dtype \n",
      "---  ------             --------------   ----- \n",
      " 0   Restaurant Name    140657 non-null  object\n",
      " 1   Cuisine            140657 non-null  object\n",
      " 2   Rating             140657 non-null  object\n",
      " 3   Number of Ratings  126115 non-null  object\n",
      " 4   Average Price(₹)   140657 non-null  object\n",
      " 5   Number of Offers   140657 non-null  int64 \n",
      " 6   Area               140655 non-null  object\n",
      " 7   Pure Veg           140657 non-null  object\n",
      " 8   Location           140657 non-null  object\n",
      "dtypes: int64(1), object(8)\n",
      "memory usage: 9.7+ MB\n"
     ]
    }
   ],
   "source": [
    "swiggy_df.info()"
   ]
  },
  {
   "cell_type": "code",
   "execution_count": 14,
   "id": "aed3ba35-7a68-48ce-8b09-f02975e6d0c2",
   "metadata": {},
   "outputs": [],
   "source": [
    "swiggy_df['Rating'] = pd.to_numeric(swiggy_df['Rating'], errors = 'coerce')"
   ]
  },
  {
   "cell_type": "code",
   "execution_count": 15,
   "id": "fd3dfcaf-bfea-4450-b1e0-44eb644a73bd",
   "metadata": {},
   "outputs": [],
   "source": [
    "swiggy_df['Average Price(₹)'] = pd.to_numeric(swiggy_df['Average Price(₹)'], errors = 'coerce')"
   ]
  },
  {
   "cell_type": "code",
   "execution_count": 16,
   "id": "53b44488-2a8b-491b-afc4-ac9f67c846d2",
   "metadata": {},
   "outputs": [],
   "source": [
    "columns_to_convert = ['Rating', 'Average Price(₹)']"
   ]
  },
  {
   "cell_type": "code",
   "execution_count": 17,
   "id": "63797970-c8a0-4732-8b33-1122f684de94",
   "metadata": {},
   "outputs": [],
   "source": [
    "swiggy_df[columns_to_convert] =swiggy_df[columns_to_convert].astype(float)"
   ]
  },
  {
   "cell_type": "code",
   "execution_count": 18,
   "id": "e109f0ed-bc23-4790-b7b6-05ea109ec40b",
   "metadata": {},
   "outputs": [
    {
     "name": "stdout",
     "output_type": "stream",
     "text": [
      "<class 'pandas.core.frame.DataFrame'>\n",
      "RangeIndex: 140657 entries, 0 to 140656\n",
      "Data columns (total 9 columns):\n",
      " #   Column             Non-Null Count   Dtype  \n",
      "---  ------             --------------   -----  \n",
      " 0   Restaurant Name    140657 non-null  object \n",
      " 1   Cuisine            140657 non-null  object \n",
      " 2   Rating             106938 non-null  float64\n",
      " 3   Number of Ratings  126115 non-null  object \n",
      " 4   Average Price(₹)   140657 non-null  float64\n",
      " 5   Number of Offers   140657 non-null  int64  \n",
      " 6   Area               140655 non-null  object \n",
      " 7   Pure Veg           140657 non-null  object \n",
      " 8   Location           140657 non-null  object \n",
      "dtypes: float64(2), int64(1), object(6)\n",
      "memory usage: 9.7+ MB\n"
     ]
    }
   ],
   "source": [
    "swiggy_df.info()"
   ]
  },
  {
   "cell_type": "markdown",
   "id": "928597e0-15c5-45a3-a639-84c45e48ef70",
   "metadata": {},
   "source": [
    "### 'Number of Ratings' column\n",
    "* This column had a number of verying factors that restricted it's conversion to the int32 Datatype\n",
    "* So, one by one We replace these starting with + sign which has a special meaning in Regex('one or more occurences'), so need to escape it witha backslash to treat it as a literal character.\n",
    "* now we replace the 'K' string by '000', followed by removal of 'ratings' string\n",
    "* After that we convert the values that are purely string in character usingpd.to_replace\n",
    "* Lastly, We replace non-finite values (inf and -inf) with NaN and fill any NaN values with 0 and convert the column to integers"
   ]
  },
  {
   "cell_type": "code",
   "execution_count": 19,
   "id": "45d77077-2dd7-4891-9140-277a4cb3d6dc",
   "metadata": {},
   "outputs": [],
   "source": [
    "swiggy_df['Number of Ratings'] = swiggy_df['Number of Ratings'].astype(str).replace('\\+', '', regex=True)\n",
    "swiggy_df['Number of Ratings'] = swiggy_df['Number of Ratings'].str.replace('K', '000')\n",
    "swiggy_df['Number of Ratings'] = swiggy_df['Number of Ratings'].str.replace(' ratings', '')\n",
    "swiggy_df['Number of Ratings'] = pd.to_numeric(swiggy_df['Number of Ratings'], errors='coerce')\n",
    "swiggy_df['Number of Ratings'] = swiggy_df['Number of Ratings'].replace([np.inf, -np.inf], np.nan).fillna(0).astype(int)"
   ]
  },
  {
   "cell_type": "code",
   "execution_count": 20,
   "id": "9ecad7b2-293c-4a6e-9f6b-4f208ebe3da6",
   "metadata": {},
   "outputs": [
    {
     "name": "stdout",
     "output_type": "stream",
     "text": [
      "<class 'pandas.core.frame.DataFrame'>\n",
      "RangeIndex: 140657 entries, 0 to 140656\n",
      "Data columns (total 9 columns):\n",
      " #   Column             Non-Null Count   Dtype  \n",
      "---  ------             --------------   -----  \n",
      " 0   Restaurant Name    140657 non-null  object \n",
      " 1   Cuisine            140657 non-null  object \n",
      " 2   Rating             106938 non-null  float64\n",
      " 3   Number of Ratings  140657 non-null  int32  \n",
      " 4   Average Price(₹)   140657 non-null  float64\n",
      " 5   Number of Offers   140657 non-null  int64  \n",
      " 6   Area               140655 non-null  object \n",
      " 7   Pure Veg           140657 non-null  object \n",
      " 8   Location           140657 non-null  object \n",
      "dtypes: float64(2), int32(1), int64(1), object(5)\n",
      "memory usage: 9.1+ MB\n"
     ]
    }
   ],
   "source": [
    "swiggy_df.info()"
   ]
  },
  {
   "cell_type": "code",
   "execution_count": 21,
   "id": "57b3ecb4-3129-4d23-9deb-c5f4b14b2e88",
   "metadata": {},
   "outputs": [
    {
     "data": {
      "text/plain": [
       "array([   10,    50,     8,   100,    20,     0,     9,   500,  5000,\n",
       "        1000,     5,     3,     4,     6,     7, 10000,     2])"
      ]
     },
     "execution_count": 21,
     "metadata": {},
     "output_type": "execute_result"
    }
   ],
   "source": [
    "swiggy_df['Number of Ratings'].unique()"
   ]
  },
  {
   "cell_type": "markdown",
   "id": "6ddf6252-b8f6-4d77-9abd-2ade2a2fe1c2",
   "metadata": {},
   "source": [
    "## Top Rated Restaurants"
   ]
  },
  {
   "cell_type": "code",
   "execution_count": 22,
   "id": "fccd7e28-5c6f-4e75-8e3f-dbb1330d061a",
   "metadata": {},
   "outputs": [
    {
     "data": {
      "text/html": [
       "<div>\n",
       "<style scoped>\n",
       "    .dataframe tbody tr th:only-of-type {\n",
       "        vertical-align: middle;\n",
       "    }\n",
       "\n",
       "    .dataframe tbody tr th {\n",
       "        vertical-align: top;\n",
       "    }\n",
       "\n",
       "    .dataframe thead th {\n",
       "        text-align: right;\n",
       "    }\n",
       "</style>\n",
       "<table border=\"1\" class=\"dataframe\">\n",
       "  <thead>\n",
       "    <tr style=\"text-align: right;\">\n",
       "      <th></th>\n",
       "      <th>Restaurant Name</th>\n",
       "      <th>Cuisine</th>\n",
       "      <th>Rating</th>\n",
       "      <th>Number of Ratings</th>\n",
       "      <th>Average Price(₹)</th>\n",
       "      <th>Number of Offers</th>\n",
       "      <th>Area</th>\n",
       "      <th>Pure Veg</th>\n",
       "      <th>Location</th>\n",
       "    </tr>\n",
       "  </thead>\n",
       "  <tbody>\n",
       "    <tr>\n",
       "      <th>57414</th>\n",
       "      <td>Dhruv Bollywood Cafe</td>\n",
       "      <td>North Indian, Chinese</td>\n",
       "      <td>5.0</td>\n",
       "      <td>100</td>\n",
       "      <td>250.0</td>\n",
       "      <td>2</td>\n",
       "      <td>Old Palasia</td>\n",
       "      <td>Yes</td>\n",
       "      <td>Indore</td>\n",
       "    </tr>\n",
       "    <tr>\n",
       "      <th>123469</th>\n",
       "      <td>Sagar Soda</td>\n",
       "      <td>Beverages</td>\n",
       "      <td>5.0</td>\n",
       "      <td>100</td>\n",
       "      <td>100.0</td>\n",
       "      <td>4</td>\n",
       "      <td>Katargam</td>\n",
       "      <td>Yes</td>\n",
       "      <td>Surat</td>\n",
       "    </tr>\n",
       "    <tr>\n",
       "      <th>119039</th>\n",
       "      <td>Sadhna Restaurant</td>\n",
       "      <td>Indian</td>\n",
       "      <td>5.0</td>\n",
       "      <td>100</td>\n",
       "      <td>100.0</td>\n",
       "      <td>4</td>\n",
       "      <td>Central Sawai Madhopur</td>\n",
       "      <td>Yes</td>\n",
       "      <td>Sawai-Madhopur</td>\n",
       "    </tr>\n",
       "    <tr>\n",
       "      <th>30177</th>\n",
       "      <td>Four Bite</td>\n",
       "      <td>Snacks, Pizzas</td>\n",
       "      <td>5.0</td>\n",
       "      <td>50</td>\n",
       "      <td>250.0</td>\n",
       "      <td>4</td>\n",
       "      <td>Chhatarpur Town</td>\n",
       "      <td>Yes</td>\n",
       "      <td>Chhatarpur</td>\n",
       "    </tr>\n",
       "    <tr>\n",
       "      <th>30176</th>\n",
       "      <td>Veg Special</td>\n",
       "      <td>Indian, Snacks</td>\n",
       "      <td>5.0</td>\n",
       "      <td>50</td>\n",
       "      <td>150.0</td>\n",
       "      <td>5</td>\n",
       "      <td>Chhatarpur Town</td>\n",
       "      <td>Yes</td>\n",
       "      <td>Chhatarpur</td>\n",
       "    </tr>\n",
       "  </tbody>\n",
       "</table>\n",
       "</div>"
      ],
      "text/plain": [
       "             Restaurant Name                Cuisine  Rating  \\\n",
       "57414   Dhruv Bollywood Cafe  North Indian, Chinese     5.0   \n",
       "123469            Sagar Soda              Beverages     5.0   \n",
       "119039     Sadhna Restaurant                 Indian     5.0   \n",
       "30177              Four Bite         Snacks, Pizzas     5.0   \n",
       "30176            Veg Special         Indian, Snacks     5.0   \n",
       "\n",
       "        Number of Ratings  Average Price(₹)  Number of Offers  \\\n",
       "57414                 100             250.0                 2   \n",
       "123469                100             100.0                 4   \n",
       "119039                100             100.0                 4   \n",
       "30177                  50             250.0                 4   \n",
       "30176                  50             150.0                 5   \n",
       "\n",
       "                          Area Pure Veg        Location  \n",
       "57414              Old Palasia      Yes          Indore  \n",
       "123469                Katargam      Yes           Surat  \n",
       "119039  Central Sawai Madhopur      Yes  Sawai-Madhopur  \n",
       "30177          Chhatarpur Town      Yes      Chhatarpur  \n",
       "30176          Chhatarpur Town      Yes      Chhatarpur  "
      ]
     },
     "execution_count": 22,
     "metadata": {},
     "output_type": "execute_result"
    }
   ],
   "source": [
    "minimum_rating_threshold = 50\n",
    "rated_restaurants = swiggy_df[swiggy_df['Number of Ratings'] >= minimum_rating_threshold]\n",
    "top_rated_restaurants = rated_restaurants.sort_values(by='Rating', ascending=False)\n",
    "top_rated_restaurants.head(5)"
   ]
  },
  {
   "cell_type": "markdown",
   "id": "a26b260d-196a-4e70-8001-a8d629a45535",
   "metadata": {},
   "source": [
    "## Top Rated Veg Restaurants"
   ]
  },
  {
   "cell_type": "code",
   "execution_count": 23,
   "id": "21b6767a-c51c-4f26-b925-557373db8cde",
   "metadata": {},
   "outputs": [
    {
     "data": {
      "text/html": [
       "<div>\n",
       "<style scoped>\n",
       "    .dataframe tbody tr th:only-of-type {\n",
       "        vertical-align: middle;\n",
       "    }\n",
       "\n",
       "    .dataframe tbody tr th {\n",
       "        vertical-align: top;\n",
       "    }\n",
       "\n",
       "    .dataframe thead th {\n",
       "        text-align: right;\n",
       "    }\n",
       "</style>\n",
       "<table border=\"1\" class=\"dataframe\">\n",
       "  <thead>\n",
       "    <tr style=\"text-align: right;\">\n",
       "      <th></th>\n",
       "      <th>Restaurant Name</th>\n",
       "      <th>Cuisine</th>\n",
       "      <th>Rating</th>\n",
       "      <th>Number of Ratings</th>\n",
       "      <th>Average Price(₹)</th>\n",
       "      <th>Number of Offers</th>\n",
       "      <th>Area</th>\n",
       "      <th>Pure Veg</th>\n",
       "      <th>Location</th>\n",
       "    </tr>\n",
       "  </thead>\n",
       "  <tbody>\n",
       "    <tr>\n",
       "      <th>57414</th>\n",
       "      <td>Dhruv Bollywood Cafe</td>\n",
       "      <td>North Indian, Chinese</td>\n",
       "      <td>5.0</td>\n",
       "      <td>100</td>\n",
       "      <td>250.0</td>\n",
       "      <td>2</td>\n",
       "      <td>Old Palasia</td>\n",
       "      <td>Yes</td>\n",
       "      <td>Indore</td>\n",
       "    </tr>\n",
       "    <tr>\n",
       "      <th>123469</th>\n",
       "      <td>Sagar Soda</td>\n",
       "      <td>Beverages</td>\n",
       "      <td>5.0</td>\n",
       "      <td>100</td>\n",
       "      <td>100.0</td>\n",
       "      <td>4</td>\n",
       "      <td>Katargam</td>\n",
       "      <td>Yes</td>\n",
       "      <td>Surat</td>\n",
       "    </tr>\n",
       "    <tr>\n",
       "      <th>119039</th>\n",
       "      <td>Sadhna Restaurant</td>\n",
       "      <td>Indian</td>\n",
       "      <td>5.0</td>\n",
       "      <td>100</td>\n",
       "      <td>100.0</td>\n",
       "      <td>4</td>\n",
       "      <td>Central Sawai Madhopur</td>\n",
       "      <td>Yes</td>\n",
       "      <td>Sawai-Madhopur</td>\n",
       "    </tr>\n",
       "    <tr>\n",
       "      <th>30177</th>\n",
       "      <td>Four Bite</td>\n",
       "      <td>Snacks, Pizzas</td>\n",
       "      <td>5.0</td>\n",
       "      <td>50</td>\n",
       "      <td>250.0</td>\n",
       "      <td>4</td>\n",
       "      <td>Chhatarpur Town</td>\n",
       "      <td>Yes</td>\n",
       "      <td>Chhatarpur</td>\n",
       "    </tr>\n",
       "    <tr>\n",
       "      <th>30176</th>\n",
       "      <td>Veg Special</td>\n",
       "      <td>Indian, Snacks</td>\n",
       "      <td>5.0</td>\n",
       "      <td>50</td>\n",
       "      <td>150.0</td>\n",
       "      <td>5</td>\n",
       "      <td>Chhatarpur Town</td>\n",
       "      <td>Yes</td>\n",
       "      <td>Chhatarpur</td>\n",
       "    </tr>\n",
       "  </tbody>\n",
       "</table>\n",
       "</div>"
      ],
      "text/plain": [
       "             Restaurant Name                Cuisine  Rating  \\\n",
       "57414   Dhruv Bollywood Cafe  North Indian, Chinese     5.0   \n",
       "123469            Sagar Soda              Beverages     5.0   \n",
       "119039     Sadhna Restaurant                 Indian     5.0   \n",
       "30177              Four Bite         Snacks, Pizzas     5.0   \n",
       "30176            Veg Special         Indian, Snacks     5.0   \n",
       "\n",
       "        Number of Ratings  Average Price(₹)  Number of Offers  \\\n",
       "57414                 100             250.0                 2   \n",
       "123469                100             100.0                 4   \n",
       "119039                100             100.0                 4   \n",
       "30177                  50             250.0                 4   \n",
       "30176                  50             150.0                 5   \n",
       "\n",
       "                          Area Pure Veg        Location  \n",
       "57414              Old Palasia      Yes          Indore  \n",
       "123469                Katargam      Yes           Surat  \n",
       "119039  Central Sawai Madhopur      Yes  Sawai-Madhopur  \n",
       "30177          Chhatarpur Town      Yes      Chhatarpur  \n",
       "30176          Chhatarpur Town      Yes      Chhatarpur  "
      ]
     },
     "execution_count": 23,
     "metadata": {},
     "output_type": "execute_result"
    }
   ],
   "source": [
    "pure_veg_data = top_rated_restaurants[top_rated_restaurants['Pure Veg'] == 'Yes'].head(5)\n",
    "pure_veg_data"
   ]
  },
  {
   "cell_type": "markdown",
   "id": "b4cc1603-dee1-4a4f-86f9-15498c03d990",
   "metadata": {},
   "source": [
    "## Top 10 Most Popular Cuisines\n",
    "#### Most popular cuisines seems to be Indian and Chinese"
   ]
  },
  {
   "cell_type": "code",
   "execution_count": 24,
   "id": "2231c2af-a1e1-4f64-b883-1254ec0652af",
   "metadata": {},
   "outputs": [
    {
     "name": "stdout",
     "output_type": "stream",
     "text": [
      "Cuisine\n",
      "North Indian, Chinese    6641\n",
      "Indian                   6480\n",
      "Chinese                  3840\n",
      "Indian, Chinese          3515\n",
      "North Indian             3506\n",
      "Bakery                   3387\n",
      "Chinese, North Indian    3304\n",
      "South Indian             2897\n",
      "Biryani                  2410\n",
      "Bakery, Desserts         2197\n",
      "Name: count, dtype: int64\n"
     ]
    }
   ],
   "source": [
    "popular_cuisines = swiggy_df['Cuisine'].value_counts()\n",
    "six_popular_cuisines = popular_cuisines.head(6)\n",
    "print(popular_cuisines.head(10))"
   ]
  },
  {
   "cell_type": "code",
   "execution_count": 41,
   "id": "dcc95a3a-7716-45a5-a9a4-710aff709fc4",
   "metadata": {},
   "outputs": [
    {
     "data": {
      "image/png": "[encoded data removed]",
      "text/plain": [
       "<Figure size 800x600 with 1 Axes>"
      ]
     },
     "metadata": {},
     "output_type": "display_data"
    }
   ],
   "source": [
    "plt.figure(figsize=(8, 6))\n",
    "plt.pie(six_popular_cuisines.values, labels=six_popular_cuisines.index, colors=sns.color_palette(\"RdBu\", n_colors=6))\n",
    "plt.title('Popular Cuisines on Swiggy', fontsize=24)\n",
    "plt.show()"
   ]
  },
  {
   "cell_type": "markdown",
   "id": "c21b0814-c819-4fa0-86a2-286f74991231",
   "metadata": {},
   "source": [
    "## Number of Restaurants offering Deals to attract customers\n",
    "* All restaurants are offering at least one deal although we see a weak negative correlation between the two meaning one does not affect the other.\n",
    "* You may need to provide offers to get noticed alas good food would give you good ratings"
   ]
  },
  {
   "cell_type": "code",
   "execution_count": 26,
   "id": "eabe08c3-024e-4751-a7b4-88c071cb16b3",
   "metadata": {},
   "outputs": [
    {
     "name": "stdout",
     "output_type": "stream",
     "text": [
      "Number of restaurants offering discounts or deals: 140657\n",
      "Total Number of restaurants: 140657\n"
     ]
    }
   ],
   "source": [
    "restaurants_with_offers = swiggy_df['Number of Offers'].notnull().sum()\n",
    "print(\"Number of restaurants offering discounts or deals:\", restaurants_with_offers)\n",
    "print(\"Total Number of restaurants: 140657\")"
   ]
  },
  {
   "cell_type": "markdown",
   "id": "e036732b-0fd3-4322-acca-39e4e84d2512",
   "metadata": {},
   "source": [
    "## Correlation coefficient Rating of a restaurants and Number of Offers it provides\n",
    "* A correlation coefficient of approximately -0.0451 between the 'Rating' and 'Number of Offers' suggests a very weak negative correlation between these two variables.\n",
    "* Based on this correlation coefficient, there is almost no relationship between the number of offers provided by a restaurant and its rating."
   ]
  },
  {
   "cell_type": "code",
   "execution_count": 27,
   "id": "ac8bc3ed-77ef-40b9-9889-62d25a3641b6",
   "metadata": {},
   "outputs": [
    {
     "name": "stdout",
     "output_type": "stream",
     "text": [
      "Correlation coefficient between Rating and Number of Offers: -0.04507352935470164\n"
     ]
    }
   ],
   "source": [
    "correlation = top_rated_restaurants['Rating'].corr(top_rated_restaurants['Number of Offers'])\n",
    "print(\"Correlation coefficient between Rating and Number of Offers:\", correlation)"
   ]
  },
  {
   "cell_type": "code",
   "execution_count": 28,
   "id": "94b236f8-5cec-4caa-b569-9965081a5d66",
   "metadata": {},
   "outputs": [
    {
     "data": {
      "image/png": "[encoded data removed]",
      "text/plain": [
       "<Figure size 800x600 with 1 Axes>"
      ]
     },
     "metadata": {},
     "output_type": "display_data"
    }
   ],
   "source": [
    "plt.figure(figsize=(8, 6))\n",
    "plt.scatter(top_rated_restaurants['Number of Offers'], top_rated_restaurants['Rating'], alpha=0.5)\n",
    "plt.title('Relationship between Rating and Number of Offers for Top Rated Restaurants')\n",
    "plt.xlabel('Number of Offers')\n",
    "plt.ylabel('Rating')\n",
    "plt.grid(False)\n",
    "plt.show()"
   ]
  },
  {
   "cell_type": "markdown",
   "id": "b574f681-6bd3-4570-a756-2c411f407739",
   "metadata": {},
   "source": [
    "## Top 10 locations popular for food delivery\n",
    "* Central India has the highest population density and to no one's shock has locations with highest number of restaurants.\n",
    "* Being such a small state and still making to this list at 4th place, Goa is a surprise but this can be justified with it being the tourist hub. "
   ]
  },
  {
   "cell_type": "code",
   "execution_count": 29,
   "id": "d4e69e7f-7171-4b05-9dad-e2557a7ca2ec",
   "metadata": {},
   "outputs": [
    {
     "name": "stdout",
     "output_type": "stream",
     "text": [
      "Location\n",
      "Kanpur         2405\n",
      "Kanchrapara    2037\n",
      "Hyderabad      1998\n",
      "Central-Goa    1998\n",
      "Indore         1998\n",
      "Vadodara       1998\n",
      "Nagpur         1998\n",
      "Lucknow        1996\n",
      "Jaipur         1990\n",
      "Kolkata        1974\n",
      "Name: count, dtype: int64\n"
     ]
    }
   ],
   "source": [
    "popular_locations = swiggy_df['Location'].value_counts().head(10)\n",
    "\n",
    "print(popular_locations)"
   ]
  },
  {
   "cell_type": "markdown",
   "id": "b4a83b3d-0995-43ea-9d25-ba4d6ff6311c",
   "metadata": {},
   "source": [
    "## Correlation between a restaurant's rating and the number of ratings it has received\n",
    "* A correlation coefficient of 0.1129 between the 'Rating' and 'Number of Ratings' suggests a weak positive correlation between these two variables.\n",
    "* While there is a positive relationship between a restaurant's rating and the number of ratings it has received, it is not a strong relationship, and other factors may play a more significant role in determining a restaurant's rating."
   ]
  },
  {
   "cell_type": "code",
   "execution_count": 30,
   "id": "3f0723dc-36f4-4081-9b76-4a220715d836",
   "metadata": {},
   "outputs": [
    {
     "name": "stdout",
     "output_type": "stream",
     "text": [
      "Correlation coefficient between Rating and Number of Ratings: 0.1128998941183469\n"
     ]
    }
   ],
   "source": [
    "correlation = swiggy_df['Rating'].corr(swiggy_df['Number of Ratings'])\n",
    "print(\"Correlation coefficient between Rating and Number of Ratings:\", correlation)"
   ]
  },
  {
   "cell_type": "code",
   "execution_count": 31,
   "id": "a7a2a662-b4aa-4d4f-9e56-c9f3624bc060",
   "metadata": {},
   "outputs": [
    {
     "data": {
      "image/png": "[encoded data removed]",
      "text/plain": [
       "<Figure size 800x600 with 1 Axes>"
      ]
     },
     "metadata": {},
     "output_type": "display_data"
    }
   ],
   "source": [
    "plt.figure(figsize=(8, 6))\n",
    "plt.scatter(swiggy_df['Number of Ratings'], swiggy_df['Rating'], alpha=0.5, color ='black')\n",
    "plt.title('Relationship between Rating and Number of Ratings')\n",
    "plt.xlabel('Number of Ratings')\n",
    "plt.ylabel('Rating')\n",
    "plt.grid(False)\n",
    "plt.show()"
   ]
  },
  {
   "cell_type": "markdown",
   "id": "0bc741a6-1a04-4dc0-b953-bf602c502e92",
   "metadata": {},
   "source": [
    "## Top Rated Restaurants in Chandigarh, India and Bangalore\n",
    "### It encapsulates north and south India seperately , and also the entire India"
   ]
  },
  {
   "cell_type": "code",
   "execution_count": 32,
   "id": "75d9a407-1a7b-4998-b7a7-696c575981dc",
   "metadata": {},
   "outputs": [
    {
     "data": {
      "text/html": [
       "<div>\n",
       "<style scoped>\n",
       "    .dataframe tbody tr th:only-of-type {\n",
       "        vertical-align: middle;\n",
       "    }\n",
       "\n",
       "    .dataframe tbody tr th {\n",
       "        vertical-align: top;\n",
       "    }\n",
       "\n",
       "    .dataframe thead th {\n",
       "        text-align: right;\n",
       "    }\n",
       "</style>\n",
       "<table border=\"1\" class=\"dataframe\">\n",
       "  <thead>\n",
       "    <tr style=\"text-align: right;\">\n",
       "      <th></th>\n",
       "      <th>Restaurant Name</th>\n",
       "      <th>Cuisine</th>\n",
       "      <th>Rating</th>\n",
       "      <th>Number of Ratings</th>\n",
       "      <th>Average Price(₹)</th>\n",
       "      <th>Number of Offers</th>\n",
       "      <th>Area</th>\n",
       "      <th>Pure Veg</th>\n",
       "      <th>Location</th>\n",
       "    </tr>\n",
       "  </thead>\n",
       "  <tbody>\n",
       "    <tr>\n",
       "      <th>29044</th>\n",
       "      <td>The Belgian Waffle Co.</td>\n",
       "      <td>Waffle, Desserts</td>\n",
       "      <td>4.8</td>\n",
       "      <td>100</td>\n",
       "      <td>200.0</td>\n",
       "      <td>5</td>\n",
       "      <td>Sector 66A</td>\n",
       "      <td>Yes</td>\n",
       "      <td>Chandigarh</td>\n",
       "    </tr>\n",
       "    <tr>\n",
       "      <th>28870</th>\n",
       "      <td>Super Donuts The American Eatery</td>\n",
       "      <td>American, Desserts</td>\n",
       "      <td>4.8</td>\n",
       "      <td>100</td>\n",
       "      <td>500.0</td>\n",
       "      <td>4</td>\n",
       "      <td>Cosmo Mall</td>\n",
       "      <td>No</td>\n",
       "      <td>Chandigarh</td>\n",
       "    </tr>\n",
       "    <tr>\n",
       "      <th>28520</th>\n",
       "      <td>Om Sai Food Point</td>\n",
       "      <td>North Indian, Indian</td>\n",
       "      <td>4.8</td>\n",
       "      <td>50</td>\n",
       "      <td>200.0</td>\n",
       "      <td>5</td>\n",
       "      <td>Zirakpur</td>\n",
       "      <td>Yes</td>\n",
       "      <td>Chandigarh</td>\n",
       "    </tr>\n",
       "    <tr>\n",
       "      <th>28401</th>\n",
       "      <td>Juice Den</td>\n",
       "      <td>Beverages, Healthy Food</td>\n",
       "      <td>4.8</td>\n",
       "      <td>1000</td>\n",
       "      <td>200.0</td>\n",
       "      <td>4</td>\n",
       "      <td>Zirakpur</td>\n",
       "      <td>Yes</td>\n",
       "      <td>Chandigarh</td>\n",
       "    </tr>\n",
       "    <tr>\n",
       "      <th>28028</th>\n",
       "      <td>Grameen Kulfi</td>\n",
       "      <td>Ice Cream, Desserts</td>\n",
       "      <td>4.7</td>\n",
       "      <td>500</td>\n",
       "      <td>120.0</td>\n",
       "      <td>5</td>\n",
       "      <td>Sector 67</td>\n",
       "      <td>Yes</td>\n",
       "      <td>Chandigarh</td>\n",
       "    </tr>\n",
       "  </tbody>\n",
       "</table>\n",
       "</div>"
      ],
      "text/plain": [
       "                        Restaurant Name                  Cuisine  Rating  \\\n",
       "29044            The Belgian Waffle Co.         Waffle, Desserts     4.8   \n",
       "28870  Super Donuts The American Eatery       American, Desserts     4.8   \n",
       "28520                 Om Sai Food Point     North Indian, Indian     4.8   \n",
       "28401                         Juice Den  Beverages, Healthy Food     4.8   \n",
       "28028                     Grameen Kulfi      Ice Cream, Desserts     4.7   \n",
       "\n",
       "       Number of Ratings  Average Price(₹)  Number of Offers        Area  \\\n",
       "29044                100             200.0                 5  Sector 66A   \n",
       "28870                100             500.0                 4  Cosmo Mall   \n",
       "28520                 50             200.0                 5    Zirakpur   \n",
       "28401               1000             200.0                 4    Zirakpur   \n",
       "28028                500             120.0                 5   Sector 67   \n",
       "\n",
       "      Pure Veg    Location  \n",
       "29044      Yes  Chandigarh  \n",
       "28870       No  Chandigarh  \n",
       "28520      Yes  Chandigarh  \n",
       "28401      Yes  Chandigarh  \n",
       "28028      Yes  Chandigarh  "
      ]
     },
     "execution_count": 32,
     "metadata": {},
     "output_type": "execute_result"
    }
   ],
   "source": [
    "minimum_rating_threshold = 50\n",
    "rated_restaurants = swiggy_df[swiggy_df['Number of Ratings'] >= minimum_rating_threshold]\n",
    "top_rated_restaurants = rated_restaurants.sort_values(by='Rating', ascending=False)\n",
    "top_rated_restaurants_chd = top_rated_restaurants[top_rated_restaurants['Location'] == 'Chandigarh']\n",
    "top_5_rated_restaurants_chd = top_rated_restaurants_chd.head(5)\n",
    "top_5_rated_restaurants_chd"
   ]
  },
  {
   "cell_type": "code",
   "execution_count": 33,
   "id": "a0188f96-7531-486c-a237-3e9c4e9a3f52",
   "metadata": {},
   "outputs": [
    {
     "data": {
      "text/html": [
       "<div>\n",
       "<style scoped>\n",
       "    .dataframe tbody tr th:only-of-type {\n",
       "        vertical-align: middle;\n",
       "    }\n",
       "\n",
       "    .dataframe tbody tr th {\n",
       "        vertical-align: top;\n",
       "    }\n",
       "\n",
       "    .dataframe thead th {\n",
       "        text-align: right;\n",
       "    }\n",
       "</style>\n",
       "<table border=\"1\" class=\"dataframe\">\n",
       "  <thead>\n",
       "    <tr style=\"text-align: right;\">\n",
       "      <th></th>\n",
       "      <th>Restaurant Name</th>\n",
       "      <th>Cuisine</th>\n",
       "      <th>Rating</th>\n",
       "      <th>Number of Ratings</th>\n",
       "      <th>Average Price(₹)</th>\n",
       "      <th>Number of Offers</th>\n",
       "      <th>Area</th>\n",
       "      <th>Pure Veg</th>\n",
       "      <th>Location</th>\n",
       "    </tr>\n",
       "  </thead>\n",
       "  <tbody>\n",
       "    <tr>\n",
       "      <th>57414</th>\n",
       "      <td>Dhruv Bollywood Cafe</td>\n",
       "      <td>North Indian, Chinese</td>\n",
       "      <td>5.0</td>\n",
       "      <td>100</td>\n",
       "      <td>250.0</td>\n",
       "      <td>2</td>\n",
       "      <td>Old Palasia</td>\n",
       "      <td>Yes</td>\n",
       "      <td>Indore</td>\n",
       "    </tr>\n",
       "    <tr>\n",
       "      <th>123469</th>\n",
       "      <td>Sagar Soda</td>\n",
       "      <td>Beverages</td>\n",
       "      <td>5.0</td>\n",
       "      <td>100</td>\n",
       "      <td>100.0</td>\n",
       "      <td>4</td>\n",
       "      <td>Katargam</td>\n",
       "      <td>Yes</td>\n",
       "      <td>Surat</td>\n",
       "    </tr>\n",
       "    <tr>\n",
       "      <th>119039</th>\n",
       "      <td>Sadhna Restaurant</td>\n",
       "      <td>Indian</td>\n",
       "      <td>5.0</td>\n",
       "      <td>100</td>\n",
       "      <td>100.0</td>\n",
       "      <td>4</td>\n",
       "      <td>Central Sawai Madhopur</td>\n",
       "      <td>Yes</td>\n",
       "      <td>Sawai-Madhopur</td>\n",
       "    </tr>\n",
       "    <tr>\n",
       "      <th>30177</th>\n",
       "      <td>Four Bite</td>\n",
       "      <td>Snacks, Pizzas</td>\n",
       "      <td>5.0</td>\n",
       "      <td>50</td>\n",
       "      <td>250.0</td>\n",
       "      <td>4</td>\n",
       "      <td>Chhatarpur Town</td>\n",
       "      <td>Yes</td>\n",
       "      <td>Chhatarpur</td>\n",
       "    </tr>\n",
       "    <tr>\n",
       "      <th>30176</th>\n",
       "      <td>Veg Special</td>\n",
       "      <td>Indian, Snacks</td>\n",
       "      <td>5.0</td>\n",
       "      <td>50</td>\n",
       "      <td>150.0</td>\n",
       "      <td>5</td>\n",
       "      <td>Chhatarpur Town</td>\n",
       "      <td>Yes</td>\n",
       "      <td>Chhatarpur</td>\n",
       "    </tr>\n",
       "  </tbody>\n",
       "</table>\n",
       "</div>"
      ],
      "text/plain": [
       "             Restaurant Name                Cuisine  Rating  \\\n",
       "57414   Dhruv Bollywood Cafe  North Indian, Chinese     5.0   \n",
       "123469            Sagar Soda              Beverages     5.0   \n",
       "119039     Sadhna Restaurant                 Indian     5.0   \n",
       "30177              Four Bite         Snacks, Pizzas     5.0   \n",
       "30176            Veg Special         Indian, Snacks     5.0   \n",
       "\n",
       "        Number of Ratings  Average Price(₹)  Number of Offers  \\\n",
       "57414                 100             250.0                 2   \n",
       "123469                100             100.0                 4   \n",
       "119039                100             100.0                 4   \n",
       "30177                  50             250.0                 4   \n",
       "30176                  50             150.0                 5   \n",
       "\n",
       "                          Area Pure Veg        Location  \n",
       "57414              Old Palasia      Yes          Indore  \n",
       "123469                Katargam      Yes           Surat  \n",
       "119039  Central Sawai Madhopur      Yes  Sawai-Madhopur  \n",
       "30177          Chhatarpur Town      Yes      Chhatarpur  \n",
       "30176          Chhatarpur Town      Yes      Chhatarpur  "
      ]
     },
     "execution_count": 33,
     "metadata": {},
     "output_type": "execute_result"
    }
   ],
   "source": [
    "minimum_rating_threshold = 50\n",
    "rated_restaurants = swiggy_df[swiggy_df['Number of Ratings'] >= minimum_rating_threshold]\n",
    "top_rated_restaurants = rated_restaurants.sort_values(by='Rating', ascending=False)\n",
    "top_5_rated_restaurants = top_rated_restaurants.head(5)\n",
    "top_5_rated_restaurants"
   ]
  },
  {
   "cell_type": "code",
   "execution_count": 34,
   "id": "3988341c-9013-49ed-ac16-d3eda4dd924a",
   "metadata": {},
   "outputs": [
    {
     "data": {
      "text/html": [
       "<div>\n",
       "<style scoped>\n",
       "    .dataframe tbody tr th:only-of-type {\n",
       "        vertical-align: middle;\n",
       "    }\n",
       "\n",
       "    .dataframe tbody tr th {\n",
       "        vertical-align: top;\n",
       "    }\n",
       "\n",
       "    .dataframe thead th {\n",
       "        text-align: right;\n",
       "    }\n",
       "</style>\n",
       "<table border=\"1\" class=\"dataframe\">\n",
       "  <thead>\n",
       "    <tr style=\"text-align: right;\">\n",
       "      <th></th>\n",
       "      <th>Restaurant Name</th>\n",
       "      <th>Cuisine</th>\n",
       "      <th>Rating</th>\n",
       "      <th>Number of Ratings</th>\n",
       "      <th>Average Price(₹)</th>\n",
       "      <th>Number of Offers</th>\n",
       "      <th>Area</th>\n",
       "      <th>Pure Veg</th>\n",
       "      <th>Location</th>\n",
       "    </tr>\n",
       "  </thead>\n",
       "  <tbody>\n",
       "    <tr>\n",
       "      <th>12589</th>\n",
       "      <td>Cafe Levista - Coffee Chai And Snacks</td>\n",
       "      <td>Beverages</td>\n",
       "      <td>5.0</td>\n",
       "      <td>50</td>\n",
       "      <td>99.0</td>\n",
       "      <td>2</td>\n",
       "      <td>Malleshwaram</td>\n",
       "      <td>No</td>\n",
       "      <td>Bangalore</td>\n",
       "    </tr>\n",
       "    <tr>\n",
       "      <th>13345</th>\n",
       "      <td>Dessert Rose</td>\n",
       "      <td>Desserts, Beverages</td>\n",
       "      <td>5.0</td>\n",
       "      <td>50</td>\n",
       "      <td>320.0</td>\n",
       "      <td>1</td>\n",
       "      <td>Banashankari</td>\n",
       "      <td>No</td>\n",
       "      <td>Bangalore</td>\n",
       "    </tr>\n",
       "    <tr>\n",
       "      <th>12598</th>\n",
       "      <td>Namma Kudla Veg</td>\n",
       "      <td>South Indian, Beverages</td>\n",
       "      <td>4.8</td>\n",
       "      <td>100</td>\n",
       "      <td>199.0</td>\n",
       "      <td>2</td>\n",
       "      <td>Malleshwaram</td>\n",
       "      <td>Yes</td>\n",
       "      <td>Bangalore</td>\n",
       "    </tr>\n",
       "    <tr>\n",
       "      <th>13204</th>\n",
       "      <td>The Biere Club</td>\n",
       "      <td>Continental, European</td>\n",
       "      <td>4.8</td>\n",
       "      <td>50</td>\n",
       "      <td>1200.0</td>\n",
       "      <td>2</td>\n",
       "      <td>Vittal Mallya Road</td>\n",
       "      <td>No</td>\n",
       "      <td>Bangalore</td>\n",
       "    </tr>\n",
       "    <tr>\n",
       "      <th>12571</th>\n",
       "      <td>Hotel Raghavendra Prasanna</td>\n",
       "      <td>Beverages, South Indian</td>\n",
       "      <td>4.8</td>\n",
       "      <td>100</td>\n",
       "      <td>200.0</td>\n",
       "      <td>2</td>\n",
       "      <td>City Market</td>\n",
       "      <td>Yes</td>\n",
       "      <td>Bangalore</td>\n",
       "    </tr>\n",
       "  </tbody>\n",
       "</table>\n",
       "</div>"
      ],
      "text/plain": [
       "                             Restaurant Name                  Cuisine  Rating  \\\n",
       "12589  Cafe Levista - Coffee Chai And Snacks                Beverages     5.0   \n",
       "13345                           Dessert Rose      Desserts, Beverages     5.0   \n",
       "12598                        Namma Kudla Veg  South Indian, Beverages     4.8   \n",
       "13204                         The Biere Club    Continental, European     4.8   \n",
       "12571             Hotel Raghavendra Prasanna  Beverages, South Indian     4.8   \n",
       "\n",
       "       Number of Ratings  Average Price(₹)  Number of Offers  \\\n",
       "12589                 50              99.0                 2   \n",
       "13345                 50             320.0                 1   \n",
       "12598                100             199.0                 2   \n",
       "13204                 50            1200.0                 2   \n",
       "12571                100             200.0                 2   \n",
       "\n",
       "                     Area Pure Veg   Location  \n",
       "12589        Malleshwaram       No  Bangalore  \n",
       "13345        Banashankari       No  Bangalore  \n",
       "12598        Malleshwaram      Yes  Bangalore  \n",
       "13204  Vittal Mallya Road       No  Bangalore  \n",
       "12571         City Market      Yes  Bangalore  "
      ]
     },
     "execution_count": 34,
     "metadata": {},
     "output_type": "execute_result"
    }
   ],
   "source": [
    "minimum_rating_threshold = 50\n",
    "rated_restaurants = swiggy_df[swiggy_df['Number of Ratings'] >= minimum_rating_threshold]\n",
    "top_rated_restaurants = rated_restaurants.sort_values(by='Rating', ascending=False)\n",
    "top_rated_restaurants_bng = top_rated_restaurants[top_rated_restaurants['Location'] == 'Bangalore']\n",
    "top_5_rated_restaurants_bng = top_rated_restaurants_bng.head(5)\n",
    "top_5_rated_restaurants_bng"
   ]
  },
  {
   "cell_type": "markdown",
   "id": "515f2588-1d60-4edc-93fc-339948039e00",
   "metadata": {},
   "source": [
    "## Percentage of Vegetarian and Non-Vegetarian restaurants \n",
    "* We have chosen and 2 locations , one from north-india and another from south-india\n",
    "* We have also taken into account the whole of India for comparions\n",
    "* Although both the locations deviate from the percentages shown overall in India\n",
    "* Chandigarh heavily leans toward the non-vegetarian side with 72%\n",
    "* Bangalore leans toward the vegetarian side as compared to overall percentages with 56%"
   ]
  },
  {
   "cell_type": "code",
   "execution_count": 35,
   "id": "7a7f78a6-d07f-47f7-8370-0cd14bef0f30",
   "metadata": {},
   "outputs": [
    {
     "name": "stdout",
     "output_type": "stream",
     "text": [
      "Percentage of Vegetarian Restaurants in Chandigarh: 27.77777777777778\n",
      "Percentage of Non-Vegetarian Restaurants in Chandigarh: 72.22222222222223\n"
     ]
    }
   ],
   "source": [
    "total_restaurants_chd = len(top_rated_restaurants_chd)\n",
    "vegetarian_restaurants_chd = len(top_rated_restaurants_chd[top_rated_restaurants_chd['Pure Veg'] == 'Yes'])\n",
    "percentage_vegetarian_chd = (vegetarian_restaurants_chd / total_restaurants_chd) * 100\n",
    "percentage_non_vegetarian_chd = 100 - percentage_vegetarian_chd\n",
    "\n",
    "print(\"Percentage of Vegetarian Restaurants in Chandigarh:\", percentage_vegetarian_chd)\n",
    "print(\"Percentage of Non-Vegetarian Restaurants in Chandigarh:\", percentage_non_vegetarian_chd)"
   ]
  },
  {
   "cell_type": "code",
   "execution_count": 36,
   "id": "9a90c970-0663-498e-b0f1-33f1705c1c6c",
   "metadata": {},
   "outputs": [
    {
     "name": "stdout",
     "output_type": "stream",
     "text": [
      "Percentage of Vegetarian Restaurants in India: 39.20204204399499\n",
      "Percentage of Non-Vegetarian Restaurants in India: 60.79795795600501\n"
     ]
    }
   ],
   "source": [
    "total_restaurants = len(top_rated_restaurants)\n",
    "vegetarian_restaurants = len(top_rated_restaurants[top_rated_restaurants['Pure Veg'] == 'Yes'])\n",
    "percentage_vegetarian = (vegetarian_restaurants / total_restaurants) * 100\n",
    "percentage_non_vegetarian = 100 - percentage_vegetarian\n",
    "\n",
    "print(\"Percentage of Vegetarian Restaurants in India:\", percentage_vegetarian)\n",
    "print(\"Percentage of Non-Vegetarian Restaurants in India:\", percentage_non_vegetarian)"
   ]
  },
  {
   "cell_type": "code",
   "execution_count": 37,
   "id": "3d65b7d3-1321-4724-a8b8-c8cf90479e7f",
   "metadata": {},
   "outputs": [
    {
     "name": "stdout",
     "output_type": "stream",
     "text": [
      "Percentage of Vegetarian Restaurants in Bangalore: 43.90243902439025\n",
      "Percentage of Non-Vegetarian Restaurants in Bangalore: 56.09756097560975\n"
     ]
    }
   ],
   "source": [
    "total_restaurants_bng = len(top_rated_restaurants_bng)\n",
    "vegetarian_restaurants_bng = len(top_rated_restaurants_bng[top_rated_restaurants_bng['Pure Veg'] == 'Yes'])\n",
    "percentage_vegetarian_bng = (vegetarian_restaurants_bng / total_restaurants_bng) * 100\n",
    "percentage_non_vegetarian_bng = 100 - percentage_vegetarian_bng\n",
    "\n",
    "print(\"Percentage of Vegetarian Restaurants in Bangalore:\", percentage_vegetarian_bng)\n",
    "print(\"Percentage of Non-Vegetarian Restaurants in Bangalore:\", percentage_non_vegetarian_bng)"
   ]
  },
  {
   "cell_type": "code",
   "execution_count": 55,
   "id": "9765977e-61e4-4913-ab71-d10a94a86213",
   "metadata": {},
   "outputs": [
    {
     "data": {
      "image/png": "[encoded data removed]",
      "text/plain": [
       "<Figure size 1500x500 with 3 Axes>"
      ]
     },
     "metadata": {},
     "output_type": "display_data"
    }
   ],
   "source": [
    "values_chd = [percentage_vegetarian_chd, percentage_non_vegetarian_chd]\n",
    "values_overall = [percentage_vegetarian, percentage_non_vegetarian]\n",
    "values_bng = [percentage_vegetarian_bng, percentage_non_vegetarian_bng]\n",
    "\n",
    "colors = ['red', 'darkred'] \n",
    "\n",
    "fig, axes = plt.subplots(1, 3, figsize=(15, 5))\n",
    "\n",
    "chd_pie = axes[1].pie(values_chd,  colors=colors, autopct='%1.1f%%', startangle=90)\n",
    "axes[1].set_title('Chandigarh', fontsize=18)\n",
    "axes[1].title.set_position([.5, -1])\n",
    "\n",
    "india_pie = axes[2].pie(values_overall, colors=colors, autopct='%1.1f%%', startangle=90)\n",
    "axes[2].set_title('India', fontsize=18)\n",
    "axes[2].title.set_position([.5, -1])\n",
    "\n",
    "bng_pie = axes[0].pie(values_bng, colors=colors, autopct='%1.1f%%', startangle=90)\n",
    "axes[0].set_title('Bangalore', fontsize=18)\n",
    "axes[0].title.set_position([.5, -1])\n",
    "\n",
    "legend_labels = ['Vegetarian', 'Non-Vegetarian']\n",
    "legend_handles = [plt.Line2D([0], [0], marker='o', color='w', label=label, markersize=10, \n",
    "                              markerfacecolor=color) for label, color in zip(legend_labels, colors)]\n",
    "plt.legend(handles=legend_handles, labels=legend_labels, loc='center', bbox_to_anchor=(0.5, -0.1), ncol=2)\n",
    "\n",
    "fig.suptitle('Percentage of Vegetarian and Non-Vegetarian Restaurants', fontsize=24)\n",
    "\n",
    "plt.show()"
   ]
  },
  {
   "cell_type": "markdown",
   "id": "31dc2f82-7803-4e76-84cb-d9cb308bda1a",
   "metadata": {},
   "source": [
    "## Cuisine diversity across India\n",
    "### Unsurprisingly, all the metropolitan cities and tourist hubs of India are a part of this list"
   ]
  },
  {
   "cell_type": "code",
   "execution_count": 39,
   "id": "d3a6b747-c93c-4b69-9948-c71a597e6242",
   "metadata": {},
   "outputs": [
    {
     "name": "stdout",
     "output_type": "stream",
     "text": [
      "Location\n",
      "Central-Goa       446\n",
      "Hyderabad         443\n",
      "Bangalore         443\n",
      "Doddaballapura    423\n",
      "Mumbai            405\n",
      "Vadodara          388\n",
      "Gurgaon           385\n",
      "Jaipur            374\n",
      "Surat             373\n",
      "Nagpur            371\n",
      "Name: Cuisine, dtype: int64\n"
     ]
    }
   ],
   "source": [
    "cuisine_diversity = swiggy_df.groupby('Location')['Cuisine'].nunique()\n",
    "cuisine_diversity = cuisine_diversity.sort_values(ascending = False).head(10)\n",
    "print(cuisine_diversity)"
   ]
  },
  {
   "cell_type": "code",
   "execution_count": 40,
   "id": "6157cd40-cd93-4d34-8a6b-0307ddf81ebf",
   "metadata": {},
   "outputs": [
    {
     "data": {
      "image/png": "[encoded data removed]",
      "text/plain": [
       "<Figure size 1400x400 with 1 Axes>"
      ]
     },
     "metadata": {},
     "output_type": "display_data"
    }
   ],
   "source": [
    "sns.set_style(\"whitegrid\")\n",
    "plt.figure(figsize=(14, 4))\n",
    "sns.barplot(x=cuisine_diversity.index, y=cuisine_diversity.values, palette=\"flare\")\n",
    "plt.title('Top 10 Locations by Cuisine Diversity on Swiggy')\n",
    "plt.xlabel('Location')\n",
    "plt.ylabel('Number of Unique Cuisines')\n",
    "plt.show()"
   ]
  },
  {
   "cell_type": "code",
   "execution_count": null,
   "id": "19e45646-059b-4df6-9e6d-62f3908f4b9a",
   "metadata": {},
   "outputs": [],
   "source": []
  }
 ],
 "metadata": {
  "kernelspec": {
   "display_name": "Python 3 (ipykernel)",
   "language": "python",
   "name": "python3"
  },
  "language_info": {
   "codemirror_mode": {
    "name": "ipython",
    "version": 3
   },
   "file_extension": ".py",
   "mimetype": "text/x-python",
   "name": "python",
   "nbconvert_exporter": "python",
   "pygments_lexer": "ipython3",
   "version": "3.11.4"
  }
 },
 "nbformat": 4,
 "nbformat_minor": 5
}
